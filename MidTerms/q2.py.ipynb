{
 "cells": [
  {
   "cell_type": "code",
   "execution_count": null,
   "id": "5a8273a1",
   "metadata": {},
   "outputs": [],
   "source": [
    "Cities = \"cities.shp\"\n",
    "Lakes = \"LAKES.shp\"\n",
    "\n",
    "# Process: Buffer (Buffer) (analysis)\n",
    "LakesBuf25 = \"LakesBuf25.shp\"\n",
    "arcpy.analysis.Buffer(Lakes, LakesBuf25, \"25 Miles\", \"FULL\", \"ROUND\", \"NONE\", [], \"PLANAR\")\n",
    "\n",
    "# Deleting the clipped result\n",
    "arcpy.Delete_management(LakesBuf25)\n",
    "\n",
    "# Process: Clip (Clip) (analysis)\n",
    "Cities_Clip = \"cities_clip.shp\" # creating a new shapefile\n",
    "arcpy.analysis.Clip(Cities, LakesBuf25, Cities_Clip)\n",
    "\n",
    "# get the count of cities in the buffer and print it out\n",
    "num_cities = int(arcpy.GetCount_management(Cities_Clip).getOutput(0))\n",
    "print(\"The number of cities in the Lakesbuf25 buffer is: {}\".format(num_cities)"
   ]
  },
  {
   "cell_type": "code",
   "execution_count": null,
   "id": "e8c96c00",
   "metadata": {},
   "outputs": [],
   "source": []
  }
 ],
 "metadata": {
  "kernelspec": {
   "display_name": "Python 3",
   "language": "python",
   "name": "python3"
  },
  "language_info": {
   "codemirror_mode": {
    "name": "ipython",
    "version": 3
   },
   "file_extension": ".py",
   "mimetype": "text/x-python",
   "name": "python",
   "nbconvert_exporter": "python",
   "pygments_lexer": "ipython3",
   "version": "3.9.11"
  }
 },
 "nbformat": 4,
 "nbformat_minor": 5
}
