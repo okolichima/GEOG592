{
 "cells": [
  {
   "cell_type": "code",
   "execution_count": null,
   "id": "dad8a18c",
   "metadata": {},
   "outputs": [],
   "source": [
    "input_shapefile = \"cities.shp\"\n",
    "threshold = float(input(\"Enter the population change threshold percentage: \"))\n",
    "\n",
    "with arcpy.da.SearchCursor(input_shapefile, [\"POP2000\", \"POP2007\"]) as cursor:\n",
    "    POP2000_T = 0\n",
    "    POP2007_T = 0\n",
    "    for row in cursor:\n",
    "        POP2000_T += row[0]\n",
    "        POP2007_T += row[1]\n",
    "    popchg_threshold = (POP2007_T - POP2000_T) / POP2000_T * 100 * threshold\n",
    "\n",
    "above_threshold = 0\n",
    "with arcpy.da.SearchCursor(input_shapefile, [\"CLASS\", \"POP2007\"]) as cursor:\n",
    "    for row in cursor:\n",
    "        if row[0] == \"City\" and row[1] > popchg_threshold:\n",
    "            above_threshold += row[1]\n",
    "\n",
    "\n",
    "print(\"The total 2007 population for cities with a population change above {}% is: {}\".format(threshold, total_population)\n"
   ]
  },
  {
   "cell_type": "code",
   "execution_count": null,
   "id": "da173e5a",
   "metadata": {},
   "outputs": [],
   "source": []
  }
 ],
 "metadata": {
  "kernelspec": {
   "display_name": "Python 3",
   "language": "python",
   "name": "python3"
  },
  "language_info": {
   "codemirror_mode": {
    "name": "ipython",
    "version": 3
   },
   "file_extension": ".py",
   "mimetype": "text/x-python",
   "name": "python",
   "nbconvert_exporter": "python",
   "pygments_lexer": "ipython3",
   "version": "3.9.11"
  }
 },
 "nbformat": 4,
 "nbformat_minor": 5
}
