{
 "cells": [
  {
   "cell_type": "code",
   "execution_count": 2,
   "id": "d910cd50",
   "metadata": {},
   "outputs": [
    {
     "ename": "FileNotFoundError",
     "evalue": "[Errno 2] No such file or directory: 'worldcities.txt'",
     "output_type": "error",
     "traceback": [
      "\u001b[1;31m---------------------------------------------------------------------------\u001b[0m",
      "\u001b[1;31mFileNotFoundError\u001b[0m                         Traceback (most recent call last)",
      "\u001b[1;32m<ipython-input-2-d84c0e37b6cd>\u001b[0m in \u001b[0;36m<module>\u001b[1;34m\u001b[0m\n\u001b[0;32m      4\u001b[0m \u001b[0marcpy\u001b[0m\u001b[1;33m.\u001b[0m\u001b[0menv\u001b[0m\u001b[1;33m.\u001b[0m\u001b[0moverwriteOutput\u001b[0m \u001b[1;33m=\u001b[0m \u001b[1;32mTrue\u001b[0m\u001b[1;33m\u001b[0m\u001b[1;33m\u001b[0m\u001b[0m\n\u001b[0;32m      5\u001b[0m \u001b[1;33m\u001b[0m\u001b[0m\n\u001b[1;32m----> 6\u001b[1;33m \u001b[0mworldcitiesFile\u001b[0m \u001b[1;33m=\u001b[0m \u001b[0mopen\u001b[0m\u001b[1;33m(\u001b[0m\u001b[1;34m\"worldcities.txt\"\u001b[0m\u001b[1;33m,\u001b[0m \u001b[1;34m\"r\"\u001b[0m\u001b[1;33m)\u001b[0m\u001b[1;33m\u001b[0m\u001b[1;33m\u001b[0m\u001b[0m\n\u001b[0m\u001b[0;32m      7\u001b[0m \u001b[0mallLines\u001b[0m \u001b[1;33m=\u001b[0m \u001b[0mworldcitiesFile\u001b[0m\u001b[1;33m.\u001b[0m\u001b[0mreadlines\u001b[0m\u001b[1;33m(\u001b[0m\u001b[1;33m)\u001b[0m\u001b[1;33m[\u001b[0m\u001b[1;36m1\u001b[0m\u001b[1;33m:\u001b[0m\u001b[1;33m]\u001b[0m\u001b[1;33m\u001b[0m\u001b[1;33m\u001b[0m\u001b[0m\n\u001b[0;32m      8\u001b[0m \u001b[1;33m\u001b[0m\u001b[0m\n",
      "\u001b[1;31mFileNotFoundError\u001b[0m: [Errno 2] No such file or directory: 'worldcities.txt'"
     ]
    }
   ],
   "source": [
    "import arcpy\n",
    "\n",
    "arcpy.env.workspace = \"T:\\\\Students\\\\chimam\\\\submissions\\\\Midterm\\\\\"\n",
    "arcpy.env.overwriteOutput = True\n",
    "\n",
    "worldcitiesFile = open(\"worldcities.txt\", \"r\")\n",
    "allLines = worldcitiesFile.readlines()[1:]\n",
    "\n",
    "arcpy.CreateFeatureclass_management(arcpy.env.workspace, \"capitals.shp\", \"Point\")\n",
    "arcpy.AddField_management(\"capitals.shp\", \"city\", \"TEXT\", \"\", \"\", 12)\n",
    "\n",
    "capitalCursor = arcpy.da.InsertCursor(\"capitals.shp\", [\"city\", \"SHAPE@XY\"])\n",
    "\n",
    "for aLine in allLines:\n",
    "    aListValues = aLine.split(',')\n",
    "    City = aListValues[0]\n",
    "    x = float(aListValues[3])\n",
    "    y = float(aListValues[2])\n",
    "    \n",
    "    capitalCursor.insertRow([City, (x,y)])\n",
    "\n",
    "del capitalCursor\n",
    "worldcitiesFile.close()\n",
    "print('capital.shp created successfully')"
   ]
  },
  {
   "cell_type": "code",
   "execution_count": null,
   "id": "1201dfec",
   "metadata": {},
   "outputs": [],
   "source": [
    "orangeDurham_Count = \"orange_durham.shp\"\n",
    "Cities_OD = \"CITIES.shp\"\n",
    "\n",
    "# Process: Clip (Clip) (analysis)\n",
    "Cities_Clip = \"cities_clip.shp\" # creating a new shapefile\n",
    "arcpy.analysis.Clip(Cities_OD, orangeDurham_Count, Cities_Clip)\n",
    "\n",
    "# Process: Buffer (Buffer) (analysis)\n",
    "Cities_Buffer = \"cities_buffer.shp\" # creating a new shapefile\n",
    "arcpy.analysis.Buffer(Cities_Clip, Cities_Buffer, \"3 Miles\", \"FULL\", \"ROUND\", \"NONE\", [], \"PLANAR\")\n",
    "\n",
    "# Deleting the clipped result\n",
    "arcpy.Delete_management(Cities_Clip)"
   ]
  },
  {
   "cell_type": "code",
   "execution_count": null,
   "id": "a4d10431",
   "metadata": {},
   "outputs": [],
   "source": []
  }
 ],
 "metadata": {
  "kernelspec": {
   "display_name": "Python 3",
   "language": "python",
   "name": "python3"
  },
  "language_info": {
   "codemirror_mode": {
    "name": "ipython",
    "version": 3
   },
   "file_extension": ".py",
   "mimetype": "text/x-python",
   "name": "python",
   "nbconvert_exporter": "python",
   "pygments_lexer": "ipython3",
   "version": "3.9.11"
  }
 },
 "nbformat": 4,
 "nbformat_minor": 5
}
