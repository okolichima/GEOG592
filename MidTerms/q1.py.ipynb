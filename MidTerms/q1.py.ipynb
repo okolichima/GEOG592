{
 "cells": [
  {
   "cell_type": "code",
   "execution_count": null,
   "id": "f2ff3dc7",
   "metadata": {},
   "outputs": [],
   "source": [
    "import arcpy\n",
    "\n",
    "arcpy.env.workspace = \"T:\\\\Students\\\\chimam\\\\submissions\\\\Midterm\\\\\"\n",
    "arcpy.env.overwriteOutput = True\n",
    "\n",
    "worldcitiesFile = open(\"T:\\Students\\chimam\\submissions\\Midterm\\worldcities.txt\", \"r\")\n",
    "allLines = worldcitiesFile.readlines()[1:]\n",
    "\n",
    "arcpy.CreateFeatureclass_management(arcpy.env.workspace, \"capitals.shp\", \"Point\")\n",
    "arcpy.AddField_management(\"capitals.shp\", \"city\", \"TEXT\", \"primary\", \"\", 12)\n",
    "\n",
    "capitalCursor = arcpy.da.InsertCursor(\"capitals.shp\", [\"city\", \"primary\" \"SHAPE@XY\"])\n",
    "\n",
    "for aLine in allLines:\n",
    "    aListValues = aLine.split(',')\n",
    "    City = aListValues[0]\n",
    "    x = float(aListValues[3])\n",
    "    y = float(aListValues[2])\n",
    "    Class = aListValues[8]\n",
    "    \n",
    "    capitalCursor.insertRow([City, Class (x,y)])\n",
    "\n",
    "del capitalCursor\n",
    "worldcitiesFile.close()\n",
    "print('capital.shp created successfully')"
   ]
  }
 ],
 "metadata": {
  "kernelspec": {
   "display_name": "Python 3",
   "language": "python",
   "name": "python3"
  },
  "language_info": {
   "codemirror_mode": {
    "name": "ipython",
    "version": 3
   },
   "file_extension": ".py",
   "mimetype": "text/x-python",
   "name": "python",
   "nbconvert_exporter": "python",
   "pygments_lexer": "ipython3",
   "version": "3.9.11"
  }
 },
 "nbformat": 4,
 "nbformat_minor": 5
}
