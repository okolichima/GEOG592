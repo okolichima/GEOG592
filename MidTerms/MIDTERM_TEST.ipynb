{
 "cells": [
  {
   "cell_type": "code",
   "execution_count": 3,
   "id": "9a092316",
   "metadata": {},
   "outputs": [
    {
     "ename": "UnicodeDecodeError",
     "evalue": "'charmap' codec can't decode byte 0x8d in position 157: character maps to <undefined>",
     "output_type": "error",
     "traceback": [
      "\u001b[1;31m---------------------------------------------------------------------------\u001b[0m",
      "\u001b[1;31mUnicodeDecodeError\u001b[0m                        Traceback (most recent call last)",
      "\u001b[1;32m<ipython-input-3-c080dc7289b3>\u001b[0m in \u001b[0;36m<module>\u001b[1;34m\u001b[0m\n\u001b[0;32m      5\u001b[0m \u001b[1;33m\u001b[0m\u001b[0m\n\u001b[0;32m      6\u001b[0m \u001b[0mworldcitiesFile\u001b[0m \u001b[1;33m=\u001b[0m \u001b[0mopen\u001b[0m\u001b[1;33m(\u001b[0m\u001b[1;34m\"T:\\Students\\chimam\\submissions\\Midterm\\worldcities.txt\"\u001b[0m\u001b[1;33m,\u001b[0m \u001b[1;34m\"r\"\u001b[0m\u001b[1;33m)\u001b[0m\u001b[1;33m\u001b[0m\u001b[1;33m\u001b[0m\u001b[0m\n\u001b[1;32m----> 7\u001b[1;33m \u001b[0mallLines\u001b[0m \u001b[1;33m=\u001b[0m \u001b[0mworldcitiesFile\u001b[0m\u001b[1;33m.\u001b[0m\u001b[0mreadlines\u001b[0m\u001b[1;33m(\u001b[0m\u001b[1;33m)\u001b[0m\u001b[1;33m[\u001b[0m\u001b[1;36m1\u001b[0m\u001b[1;33m:\u001b[0m\u001b[1;33m]\u001b[0m\u001b[1;33m\u001b[0m\u001b[1;33m\u001b[0m\u001b[0m\n\u001b[0m\u001b[0;32m      8\u001b[0m \u001b[1;33m\u001b[0m\u001b[0m\n\u001b[0;32m      9\u001b[0m \u001b[0marcpy\u001b[0m\u001b[1;33m.\u001b[0m\u001b[0mCreateFeatureclass_management\u001b[0m\u001b[1;33m(\u001b[0m\u001b[0marcpy\u001b[0m\u001b[1;33m.\u001b[0m\u001b[0menv\u001b[0m\u001b[1;33m.\u001b[0m\u001b[0mworkspace\u001b[0m\u001b[1;33m,\u001b[0m \u001b[1;34m\"capitals.shp\"\u001b[0m\u001b[1;33m,\u001b[0m \u001b[1;34m\"Point\"\u001b[0m\u001b[1;33m)\u001b[0m\u001b[1;33m\u001b[0m\u001b[1;33m\u001b[0m\u001b[0m\n",
      "\u001b[1;32mC:\\Program Files\\ArcGIS\\Pro\\bin\\Python\\envs\\arcgispro-py3\\lib\\encodings\\cp1252.py\u001b[0m in \u001b[0;36mdecode\u001b[1;34m(self, input, final)\u001b[0m\n\u001b[0;32m     21\u001b[0m \u001b[1;32mclass\u001b[0m \u001b[0mIncrementalDecoder\u001b[0m\u001b[1;33m(\u001b[0m\u001b[0mcodecs\u001b[0m\u001b[1;33m.\u001b[0m\u001b[0mIncrementalDecoder\u001b[0m\u001b[1;33m)\u001b[0m\u001b[1;33m:\u001b[0m\u001b[1;33m\u001b[0m\u001b[1;33m\u001b[0m\u001b[0m\n\u001b[0;32m     22\u001b[0m     \u001b[1;32mdef\u001b[0m \u001b[0mdecode\u001b[0m\u001b[1;33m(\u001b[0m\u001b[0mself\u001b[0m\u001b[1;33m,\u001b[0m \u001b[0minput\u001b[0m\u001b[1;33m,\u001b[0m \u001b[0mfinal\u001b[0m\u001b[1;33m=\u001b[0m\u001b[1;32mFalse\u001b[0m\u001b[1;33m)\u001b[0m\u001b[1;33m:\u001b[0m\u001b[1;33m\u001b[0m\u001b[1;33m\u001b[0m\u001b[0m\n\u001b[1;32m---> 23\u001b[1;33m         \u001b[1;32mreturn\u001b[0m \u001b[0mcodecs\u001b[0m\u001b[1;33m.\u001b[0m\u001b[0mcharmap_decode\u001b[0m\u001b[1;33m(\u001b[0m\u001b[0minput\u001b[0m\u001b[1;33m,\u001b[0m\u001b[0mself\u001b[0m\u001b[1;33m.\u001b[0m\u001b[0merrors\u001b[0m\u001b[1;33m,\u001b[0m\u001b[0mdecoding_table\u001b[0m\u001b[1;33m)\u001b[0m\u001b[1;33m[\u001b[0m\u001b[1;36m0\u001b[0m\u001b[1;33m]\u001b[0m\u001b[1;33m\u001b[0m\u001b[1;33m\u001b[0m\u001b[0m\n\u001b[0m\u001b[0;32m     24\u001b[0m \u001b[1;33m\u001b[0m\u001b[0m\n\u001b[0;32m     25\u001b[0m \u001b[1;32mclass\u001b[0m \u001b[0mStreamWriter\u001b[0m\u001b[1;33m(\u001b[0m\u001b[0mCodec\u001b[0m\u001b[1;33m,\u001b[0m\u001b[0mcodecs\u001b[0m\u001b[1;33m.\u001b[0m\u001b[0mStreamWriter\u001b[0m\u001b[1;33m)\u001b[0m\u001b[1;33m:\u001b[0m\u001b[1;33m\u001b[0m\u001b[1;33m\u001b[0m\u001b[0m\n",
      "\u001b[1;31mUnicodeDecodeError\u001b[0m: 'charmap' codec can't decode byte 0x8d in position 157: character maps to <undefined>"
     ]
    }
   ],
   "source": [
    "import arcpy\n",
    "\n",
    "arcpy.env.workspace = \"T:\\\\Students\\\\chimam\\\\submissions\\\\Midterm\\\\\"\n",
    "arcpy.env.overwriteOutput = True\n",
    "\n",
    "worldcitiesFile = open(\"T:\\Students\\chimam\\submissions\\Midterm\\worldcities.txt\", \"r\")\n",
    "allLines = worldcitiesFile.readlines()[1:]\n",
    "\n",
    "arcpy.CreateFeatureclass_management(arcpy.env.workspace, \"capitals.shp\", \"Point\")\n",
    "arcpy.AddField_management(\"capitals.shp\", \"city\", \"TEXT\", \"primary\", \"\", 12)\n",
    "\n",
    "capitalCursor = arcpy.da.InsertCursor(\"capitals.shp\", [\"city\", \"primary\" \"SHAPE@XY\"])\n",
    "\n",
    "for aLine in allLines:\n",
    "    aListValues = aLine.split(',')\n",
    "    City = aListValues[0]\n",
    "    x = float(aListValues[3])\n",
    "    y = float(aListValues[2])\n",
    "    Class = aListValues[8]\n",
    "    \n",
    "    capitalCursor.insertRow([City, Class (x,y)])\n",
    "\n",
    "del capitalCursor\n",
    "worldcitiesFile.close()\n",
    "print('capital.shp created successfully')"
   ]
  },
  {
   "cell_type": "code",
   "execution_count": null,
   "id": "805dae89",
   "metadata": {},
   "outputs": [],
   "source": []
  },
  {
   "cell_type": "code",
   "execution_count": null,
   "id": "27faa4cd",
   "metadata": {},
   "outputs": [],
   "source": [
    "Cities = \"cities.shp\"\n",
    "Lakes = \"LAKES.shp\"\n",
    "\n",
    "# Process: Buffer (Buffer) (analysis)\n",
    "LakesBuf25 = \"LakesBuf25.shp\"\n",
    "arcpy.analysis.Buffer(Lakes, LakesBuf25, \"25 Miles\", \"FULL\", \"ROUND\", \"NONE\", [], \"PLANAR\")\n",
    "\n",
    "# Deleting the clipped result\n",
    "arcpy.Delete_management(LakesBuf25)\n",
    "\n",
    "# Process: Select Layer By Location (Select Layer By Location) (management)\n",
    "cities, CitiesInLkBUf25, Count = arcpy.management.SelectLayerByLocation(in_layer=[cities_2_], overlap_type=\"WITHIN\", select_features=LakesBuf25, search_distance=\"\", selection_type=\"NEW_SELECTION\", invert_spatial_relationship=\"NOT_INVERT\")\n",
    "\n",
    "if __name__ == '__main__':\n",
    "# Global Environment settings\n",
    "with arcpy.EnvManager(scratchWorkspace=r\"C:\\Users\\Chima Okoli\\OneDrive\\Desktop\\GEOG592\\Midterm\\MyProject.gdb\", workspace=r\"C:\\Users\\Chima Okoli\\OneDrive\\Desktop\\GEOG592\\Midterm\\MyProject.gdb\"):\n",
    "    Model()\n"
   ]
  },
  {
   "cell_type": "code",
   "execution_count": null,
   "id": "473263ca",
   "metadata": {},
   "outputs": [],
   "source": [
    "City = \"cities.shp\"\n",
    "\n",
    "userInupt = int(input('Please enter a population change threshold e.g - 5 \\n'))\n",
    "\n",
    "SerachCursor = arcpy.da.SearchCursor(userInput, [\"POP2000\", \"POP2007\"])\n"
   ]
  },
  {
   "cell_type": "code",
   "execution_count": null,
   "id": "36bc8be9",
   "metadata": {},
   "outputs": [],
   "source": [
    "# Set input shapefile name and population change threshold percentage\n",
    "input_shapefile = \"cities.shp\"\n",
    "threshold = float(input(\"Enter the population change threshold percentage: \"))\n",
    "\n",
    "# Calculate the threshold value for population change\n",
    "with arcpy.da.SearchCursor(input_shapefile, [\"POP2000\", \"POP2007\"]) as cursor:\n",
    "    total_pop_2000 = 0\n",
    "    total_pop_2007 = 0\n",
    "    for row in cursor:\n",
    "        total_pop_2000 += row[0]\n",
    "        total_pop_2007 += row[1]\n",
    "    pop_change_threshold = (total_pop_2007 - total_pop_2000) / total_pop_2000 * 100 * threshold\n",
    "\n",
    "# Calculate the total 2007 population for cities above the threshold\n",
    "total_pop_2007_above_threshold = 0\n",
    "with arcpy.da.SearchCursor(input_shapefile, [\"CLASS\", \"POP2007\"]) as cursor:\n",
    "    for row in cursor:\n",
    "        if row[0] == \"City\" and row[1] > pop_change_threshold:\n",
    "            total_pop_2007_above_threshold += row[1]\n",
    "\n",
    "# Print the result\n",
    "print(f\"The total 2007 population for all cities with a population change above {threshold}% is {total_pop_2007_above_threshold}.\")\n"
   ]
  }
 ],
 "metadata": {
  "kernelspec": {
   "display_name": "Python 3",
   "language": "python",
   "name": "python3"
  },
  "language_info": {
   "codemirror_mode": {
    "name": "ipython",
    "version": 3
   },
   "file_extension": ".py",
   "mimetype": "text/x-python",
   "name": "python",
   "nbconvert_exporter": "python",
   "pygments_lexer": "ipython3",
   "version": "3.9.11"
  }
 },
 "nbformat": 4,
 "nbformat_minor": 5
}
