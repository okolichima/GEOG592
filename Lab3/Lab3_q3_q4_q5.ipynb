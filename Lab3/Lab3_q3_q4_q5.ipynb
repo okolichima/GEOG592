{
 "cells": [
  {
   "cell_type": "code",
   "execution_count": 5,
   "id": "de7ea5fe",
   "metadata": {},
   "outputs": [
    {
     "name": "stdout",
     "output_type": "stream",
     "text": [
      "Please type two highways to analyze - Ex: I40 I80\n",
      "I40 I80\n",
      "Please input the buffer distance values here (in miles): Ex - 30\n",
      "15\n",
      "All Completed\n"
     ]
    }
   ],
   "source": [
    "#Question_3\n",
    "\n",
    "import arcpy\n",
    "\n",
    "# To allow overwriting outputs change overwriteOutput option to True.\n",
    "arcpy.env.overwriteOutput = True\n",
    "arcpy.env.workspace = \"C:\\\\Users\\\\Chima Okoli\\\\OneDrive\\\\Desktop\\\\Lab3\\\\\"\n",
    "\n",
    "CITIES = \"CITIES.shp\"\n",
    "interstate = \"intrstat.shp\"\n",
    "\n",
    "#Get user's input for two highway choices\n",
    "hwyListStr = input(\"Please type two highways to analyze - Ex: I40 I80\\n\")\n",
    "hwyList = hwyListStr.split()\n",
    "hw1 = hwyList[0]\n",
    "bufDistStr = input(\"Please input the buffer distance values here (in miles): Ex - 30\\n\")\n",
    "\n",
    "for aHwy in hwyList:\n",
    "    #process: select (Select) (analysis)\n",
    "    interstate_Select = \"interstate_Select.shp\"\n",
    "    arcpy.analysis.Select(interstate, interstate_Select, \"ROUTE_NUM = '\"+aHwy+\"'\")\n",
    "\n",
    "    # Process: Select (Select) (analysis)\n",
    "    #intrstat_Select4 = \"intrstat_Select4.shp\"\n",
    "    #arcpy.analysis.Select(intrstat_shp, intrstat_Select4, \"ROUTE_NUM = 'I90'\")\n",
    "\n",
    "    # Process: Buffer (Buffer) (analysis)\n",
    "    interstate_Buffer = \"interstate_Buffer.shp\"\n",
    "    arcpy.analysis.Buffer(interstate_Select, interstate_Buffer, bufDistStr+\" Miles\", \"FULL\", \"ROUND\", \"NONE\", [], \"PLANAR\")\n",
    "\n",
    "    # Process: Clip (Clip) (analysis)\n",
    "    Buffer_Clip_Cities = \"Buffer_Clip_Cities.shp\"\n",
    "    arcpy.analysis.Clip(CITIES, interstate_Buffer, Buffer_Clip_Cities)\n",
    "\n",
    "    # Process: Summary Statistics (Summary Statistics) (analysis)\n",
    "    sumtable_dbf = \"Cities\"+aHwy+\"Buf\"+bufDistStr+\".shp\"\n",
    "    arcpy.analysis.Statistics(Buffer_Clip_Cities, sumtable_dbf, [[\"POP1990\", \"SUM\"], [\"HISPANIC\", \"SUM\"]])\n",
    "print(\"All Completed\")\n",
    "\n"
   ]
  },
  {
   "cell_type": "code",
   "execution_count": 9,
   "id": "6dd896b9",
   "metadata": {},
   "outputs": [
    {
     "data": {
      "text/html": [
       "<div class='gpresult'><h2>Messages</h2><div id='messages' data-messages='[\"Start Time: Tuesday, February 14, 2023 8:12:58 PM\",\"Succeeded at Tuesday, February 14, 2023 8:12:58 PM (Elapsed Time: 0.01 seconds)\"]' data-show='true'><div id = 'default' /></div></div>"
      ],
      "text/plain": [
       "<Result 'true'>"
      ]
     },
     "execution_count": 9,
     "metadata": {},
     "output_type": "execute_result"
    }
   ],
   "source": [
    "# Question_4\n",
    "\n",
    "orangeDurham_Count = \"orange_durham.shp\"\n",
    "Cities_OD = \"CITIES.shp\"\n",
    "\n",
    "# Process: Clip (Clip) (analysis)\n",
    "Cities_Clip = \"cities_clip.shp\" # creating a new shapefile\n",
    "arcpy.analysis.Clip(Cities_OD, orangeDurham_Count, Cities_Clip)\n",
    "\n",
    "# Process: Buffer (Buffer) (analysis)\n",
    "Cities_Buffer = \"cities_buffer.shp\" # creating a new shapefile\n",
    "arcpy.analysis.Buffer(Cities_Clip, Cities_Buffer, \"3 Miles\", \"FULL\", \"ROUND\", \"NONE\", [], \"PLANAR\")\n",
    "\n",
    "# Deleting the clipped result\n",
    "arcpy.Delete_management(Cities_Clip)"
   ]
  },
  {
   "cell_type": "code",
   "execution_count": 10,
   "id": "2a79ec86",
   "metadata": {},
   "outputs": [
    {
     "data": {
      "text/html": [
       "<div class='gpresult'><h2>Messages</h2><div id='messages' data-messages='[\"Start Time: Tuesday, February 14, 2023 8:17:58 PM\",\"Succeeded at Tuesday, February 14, 2023 8:17:58 PM (Elapsed Time: 0.11 seconds)\"]' data-show='true'><div id = 'default' /></div></div>"
      ],
      "text/plain": [
       "<Result 'C:\\\\Users\\\\Chima Okoli\\\\OneDrive\\\\Desktop\\\\Lab3\\\\cities_250000.shp'>"
      ]
     },
     "execution_count": 10,
     "metadata": {},
     "output_type": "execute_result"
    }
   ],
   "source": [
    "# Question_5\n",
    "\n",
    "Cities_25 = \"CITIES.shp\"\n",
    "\n",
    "# Process: Select (Select) (analysis)\n",
    "cities_select = \"cities_250000.shp\"\n",
    "arcpy.analysis.Select(Cities_25, cities_select, \"POP1990 > 250000\")"
   ]
  }
 ],
 "metadata": {
  "kernelspec": {
   "display_name": "Python 3",
   "language": "python",
   "name": "python3"
  },
  "language_info": {
   "codemirror_mode": {
    "name": "ipython",
    "version": 3
   },
   "file_extension": ".py",
   "mimetype": "text/x-python",
   "name": "python",
   "nbconvert_exporter": "python",
   "pygments_lexer": "ipython3",
   "version": "3.9.11"
  }
 },
 "nbformat": 4,
 "nbformat_minor": 5
}
