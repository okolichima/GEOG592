{
 "cells": [
  {
   "cell_type": "code",
   "execution_count": null,
   "id": "0befbd0c",
   "metadata": {},
   "outputs": [],
   "source": [
    "# Set Geoprocessing environments\n",
    "arcpy.env.snapRaster = \"D:\\\\SuitabilityModeling\\\\Data.gdb\\\\Elevation\"\n",
    "arcpy.env.extent = \"439952.113762345 200181.284694512 513122.113762345 253671.284694512\"\n",
    "arcpy.env.cellSize = \"30\"\n",
    "arcpy.env.mask = \"D:\\\\SuitabilityModeling\\\\Data.gdb\\\\Elevation\"\n",
    "\n",
    " \n",
    "\n",
    "    Also, for the SA module, you need to import it as well:\n",
    "\n",
    "import arcpy\n",
    "from arcpy.sa import *\n",
    "arcpy.CheckOutExtension(\"Spatial\")\n",
    "arcpy.env.workspace = \"D:\\\\SuitabilityModeling\\\\Data.gdb\"\n",
    "arcpy.env.overwriteOutput = True"
   ]
  }
 ],
 "metadata": {
  "kernelspec": {
   "display_name": "Python 3",
   "language": "python",
   "name": "python3"
  },
  "language_info": {
   "codemirror_mode": {
    "name": "ipython",
    "version": 3
   },
   "file_extension": ".py",
   "mimetype": "text/x-python",
   "name": "python",
   "nbconvert_exporter": "python",
   "pygments_lexer": "ipython3",
   "version": "3.9.11"
  }
 },
 "nbformat": 4,
 "nbformat_minor": 5
}
