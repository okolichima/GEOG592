{
 "cells": [
  {
   "cell_type": "markdown",
   "id": "192a2a0e",
   "metadata": {},
   "source": [
    "QUESTION 1"
   ]
  },
  {
   "cell_type": "code",
   "execution_count": 9,
   "id": "f7a4cb34",
   "metadata": {},
   "outputs": [
    {
     "name": "stdout",
     "output_type": "stream",
     "text": [
      "q1.shp has been created successfully.\n"
     ]
    }
   ],
   "source": [
    "import arcpy\n",
    "\n",
    "arcpy.env.workspace = \"T:\\\\Students\\\\chimam\\\\submissions\\\\Lab4\\\\\"\n",
    "arcpy.env.overwriteOutput = True\n",
    "\n",
    "#Read the X and Y coordinates from the location.txt file\n",
    "locationFile = open(\"locations.txt\", \"r\")\n",
    "allLines = locationFile.readlines()[1:]\n",
    "\n",
    "#Call-in arcpy geoprocessing tool to create point features\n",
    "arcpy.CreateFeatureclass_management(arcpy.env.workspace, \"q1.shp\", \"Point\")\n",
    "arcpy.AddField_management(\"q1.shp\", \"LocID\", \"TEXT\", \"\", \"\", 10)\n",
    "\n",
    "#Call-in the data access cursor function\n",
    "locationCursor = arcpy.da.InsertCursor(\"q1.shp\",[\"LocID\",\"SHAPE@XY\"])\n",
    "\n",
    "#Create the loop and iterate through each point\n",
    "for aLine in allLines:\n",
    "    aListValues = aLine.split(\",\")\n",
    "    locationID = aListValues[0]\n",
    "    x = float(aListValues[1])\n",
    "    y = float(aListValues[2])\n",
    "    \n",
    "    locationCursor.insertRow([locationID, (x,y)])\n",
    "\n",
    "#Ensure to delete the cursor and close the file\n",
    "del locationCursor\n",
    "locationFile.close()\n",
    "\n",
    "print(\"q1.shp has been created successfully.\")\n",
    "    "
   ]
  },
  {
   "cell_type": "markdown",
   "id": "afbdd74d",
   "metadata": {},
   "source": [
    "QUESTION 2"
   ]
  },
  {
   "cell_type": "code",
   "execution_count": 11,
   "id": "74d98cc3",
   "metadata": {},
   "outputs": [
    {
     "name": "stdout",
     "output_type": "stream",
     "text": [
      "q2.shp has been created successfully.\n"
     ]
    }
   ],
   "source": [
    "arcpy.env.workspace = \"T:\\\\Students\\\\chimam\\\\submissions\\\\Lab4\\\\\"\n",
    "arcpy.env.overwriteOutput = True\n",
    "\n",
    "#Read the X and Y coordinates from the location.txt file\n",
    "locationFile = open(\"locations.txt\", \"r\")\n",
    "allLines = locationFile.readlines()[1:]\n",
    "\n",
    "#Call-in arcpy geoprocessing tool to create point features\n",
    "arcpy.CreateFeatureclass_management(arcpy.env.workspace, \"q2.shp\", \"Point\")\n",
    "arcpy.AddField_management(\"q2.shp\", \"LocID\", \"TEXT\", \"\", \"\", 10)\n",
    "\n",
    "#Call-in the data access cursor function\n",
    "locationCursor = arcpy.da.InsertCursor(\"q2.shp\",[\"LocID\",\"SHAPE@XY\"])\n",
    "\n",
    "total_x = 0\n",
    "total_y = 0\n",
    "count = 0\n",
    "\n",
    "#Create the loop and iterate through each point\n",
    "for aLine in allLines:\n",
    "    aListValues = aLine.split(\",\")\n",
    "    locationID = aListValues[0]\n",
    "    x = float(aListValues[1])\n",
    "    y = float(aListValues[2])\n",
    "    total_x += x\n",
    "    total_y += y\n",
    "    count += 1\n",
    "    \n",
    "    locationCursor.insertRow([locationID, (x,y)])\n",
    "\n",
    "average_x = total_x/count\n",
    "average_y = total_y/count\n",
    "locationCursor.insertRow([\"mc\", (average_x, average_y)])\n",
    "\n",
    "#Ensure to delete the cursor and close the file\n",
    "del locationCursor\n",
    "locationFile.close()\n",
    "print(\"q2.shp has been created successfully.\")"
   ]
  },
  {
   "cell_type": "markdown",
   "id": "cb60ba82",
   "metadata": {},
   "source": [
    "QUESTION 3"
   ]
  },
  {
   "cell_type": "code",
   "execution_count": 23,
   "id": "cd55370a",
   "metadata": {},
   "outputs": [
    {
     "name": "stdout",
     "output_type": "stream",
     "text": [
      "q3.shp was executed successfully.\n"
     ]
    }
   ],
   "source": [
    "arcpy.env.workspace = \"T:\\\\Students\\\\chimam\\\\submissions\\\\Lab4\\\\\"\n",
    "arcpy.env.overwriteOutput = True\n",
    "\n",
    "#Read the text file from the lab4 folder\n",
    "onelineFile = open(\"oneline.txt\", \"r\")\n",
    "allLines = onelineFile.readlines()\n",
    "\n",
    "#Create a feature class named q3.shp (shapefile) and add a new field to the attribute table\n",
    "arcpy.CreateFeatureclass_management(arcpy.env.workspace, \"q3.shp\", \"POLYLINE\")\n",
    "arcpy.AddField_management(\"q3.shp\", \"LineID\", \"TEXT\", \"\", \"\", 12)\n",
    "\n",
    "#call-in the insertcursor data access module\n",
    "polylineCursor = arcpy.da.InsertCursor(\"q3.shp\", [\"LineID\", \"SHAPE@\"])\n",
    "\n",
    "#Create an empty array\n",
    "point = arcpy.Point()\n",
    "array = arcpy.Array()\n",
    "\n",
    "#Go into the loop to retrieve values for lineID, X, and Y coordinates. Add the coordinates to the array.\n",
    "for aLine in allLines:\n",
    "    aListValues = aLine.split()\n",
    "    lineID = aListValues[0]\n",
    "    x = float(aListValues[6])\n",
    "    y = float(aListValues[5])\n",
    "    point.X = x\n",
    "    point.Y = y\n",
    "    array.add(point)\n",
    "\n",
    "#Create a polyline object to add the array of coordiantes.\n",
    "polyline = arcpy.Polyline(array)\n",
    "\n",
    "#Insert the created polyline object as a new row\n",
    "polylineCursor.insertRow([lineID, polyline])\n",
    "\n",
    "#delete the cursor object\n",
    "del polylineCursor\n",
    "onelineFile.close()\n",
    "\n",
    "print(\"q3.shp was executed successfully.\")"
   ]
  },
  {
   "cell_type": "markdown",
   "id": "8ad35f63",
   "metadata": {},
   "source": [
    "QUESTION 4"
   ]
  },
  {
   "cell_type": "code",
   "execution_count": 24,
   "id": "0098e00f",
   "metadata": {},
   "outputs": [
    {
     "name": "stdout",
     "output_type": "stream",
     "text": [
      "q4.shp was executed successfully.\n"
     ]
    }
   ],
   "source": [
    "arcpy.env.workspace = \"T:\\\\Students\\\\chimam\\\\submissions\\\\Lab4\\\\\"\n",
    "arcpy.env.overwriteOutput = True\n",
    "\n",
    "#Read the text file from the lab4 folder\n",
    "testFile = open(\"test.txt\", \"r\")\n",
    "allLines = testFile.readlines()\n",
    "\n",
    "#Create a feature class named q3.shp (shapefile) and add a new field to the attribute table\n",
    "arcpy.CreateFeatureclass_management(arcpy.env.workspace, \"q4.shp\", \"POLYLINE\")\n",
    "arcpy.AddField_management(\"q4.shp\", \"LineID\", \"TEXT\", \"\", \"\", 12)\n",
    "\n",
    "#call-in the insertcursor data access module\n",
    "polylineCursor = arcpy.da.InsertCursor(\"q4.shp\", [\"LineID\", \"SHAPE@\"])\n",
    "\n",
    "#Create an empty array\n",
    "point = arcpy.Point()\n",
    "array = arcpy.Array()\n",
    "\n",
    "#Go into the loop to retrieve values for lineID, X, and Y coordinates. Add the coordinates to the array.\n",
    "previousID = allLines[0].split()[0]\n",
    "for aLine in allLines:\n",
    "    aListValues = aLine.split()\n",
    "    lineID = aListValues[0]\n",
    "    x = float(aListValues[6])\n",
    "    y = float(aListValues[5])\n",
    "    point.X = x\n",
    "    point.Y = y\n",
    "    array.add(point)\n",
    "    #An if statement has to be introduced to break the loop and insert rows to assemble the polyline with same IDs, change the new ID to the current ID and then continue the loop\n",
    "    if lineID != previousID:\n",
    "        polyline = arcpy.Polyline(array)\n",
    "        polylineCursor.insertRow([lineID, polyline])\n",
    "        previousID = lineID\n",
    "        array.removeAll()\n",
    "\n",
    "#Create a polyline object to add the array of coordiantes.\n",
    "#polyline = arcpy.Polyline(array)\n",
    "\n",
    "#Insert the created polyline object as a new row\n",
    "#polylineCursor.insertRow([lineID, polyline])\n",
    "\n",
    "#delete the cursor object\n",
    "del polylineCursor\n",
    "testFile.close()\n",
    "\n",
    "print(\"q4.shp was executed successfully.\")"
   ]
  },
  {
   "cell_type": "markdown",
   "id": "aed8654c",
   "metadata": {},
   "source": [
    "QUESTION 5"
   ]
  },
  {
   "cell_type": "code",
   "execution_count": 45,
   "id": "56634876",
   "metadata": {},
   "outputs": [
    {
     "name": "stdout",
     "output_type": "stream",
     "text": [
      "<0>POP00_SQMI\n",
      "<1>POP10_SQMI\n",
      "<2>MED_AGE\n",
      "<3>MED_AGE_M\n",
      "<4>MED_AGE_F\n",
      "<5>AVE_HH_SZ\n",
      "<6>AVE_FAM_SZ\n",
      "<7>NO_FARMS07\n",
      "<8>AVG_SIZE07\n",
      "<9>CROP_ACR07\n",
      "<10>AVG_SALE07\n",
      "<11>popchg2\n",
      "<12>POP2000\n",
      "<13>POP2010\n",
      "<14>WHITE\n",
      "<15>BLACK\n",
      "<16>AMERI_ES\n",
      "<17>ASIAN\n",
      "<18>HAWN_PI\n",
      "<19>OTHER\n",
      "<20>MULT_RACE\n",
      "<21>HISPANIC\n",
      "<22>MALES\n",
      "<23>FEMALES\n",
      "<24>AGE_UNDER5\n",
      "<25>AGE_5_17\n",
      "<26>AGE_18_21\n",
      "<27>AGE_22_29\n",
      "<28>AGE_30_39\n",
      "<29>AGE_40_49\n",
      "<30>AGE_50_64\n",
      "<31>AGE_65_UP\n",
      "<32>HOUSEHOLDS\n",
      "<33>HSEHLD_1_M\n",
      "<34>HSEHLD_1_F\n",
      "<35>MARHH_CHD\n",
      "<36>MARHH_NO_C\n",
      "<37>MHH_CHILD\n",
      "<38>FHH_CHILD\n",
      "<39>FAMILIES\n",
      "<40>HSE_UNITS\n",
      "<41>VACANT\n",
      "<42>OWNER_OCC\n",
      "<43>RENTER_OCC\n",
      "<44>SQMI\n",
      "<45>OID_1\n",
      "<46>R2010\n",
      "<47>R2010Dens\n",
      "Please choose a field by typing the corresponding index number.\n",
      "2\n",
      "The total value of the selected field is:  1791\n",
      "The maximum value of the selected field is:  38.9\n",
      "The mean value of the selected field is:  35.11764705882353\n"
     ]
    }
   ],
   "source": [
    "arcpy.env.workspace = \"T:\\\\Students\\\\chimam\\\\submissions\\\\Lab4\\\\\"\n",
    "arcpy.env.overwriteOutput = True\n",
    "shapeFile = \"states2010.shp\"\n",
    "numericalFields = arcpy.ListFields(shapeFile, '', 'Double') + arcpy.ListFields(shapeFile, '', 'Integer')\n",
    "counter = 0\n",
    "for aField in numericalFields:\n",
    "    print(\"<%d>\" % counter + aField.name)\n",
    "    counter += 1\n",
    "\n",
    "userChoice = int(input(\"Please choose a field by typing the corresponding index number.\\n\"))\n",
    "\n",
    "statCursor = arcpy.da.SearchCursor(shapeFile, [numericalFields[userChoice].name])\n",
    "total = 0\n",
    "maximum = -999999999\n",
    "count = 0\n",
    "for aRow in statCursor:\n",
    "    total += int(aRow[0])\n",
    "    count += 1\n",
    "    if aRow[0] > maximum:\n",
    "        maximum = aRow[0]\n",
    "mean = total/count\n",
    "print(\"The total value of the selected field is: \",total)\n",
    "print(\"The maximum value of the selected field is: \",maximum)\n",
    "print(\"The mean value of the selected field is: \",mean)\n",
    "\n",
    "del statCursor\n",
    "\n",
    "# Calclate total and maximum in the loop\n",
    "#Print the total, mean and maximum values\n",
    "#Delete cursor objects\n",
    "\n"
   ]
  },
  {
   "cell_type": "code",
   "execution_count": 46,
   "id": "78855ea4",
   "metadata": {},
   "outputs": [
    {
     "name": "stdout",
     "output_type": "stream",
     "text": [
      "popchg2 field already exists, deleting .. \n"
     ]
    }
   ],
   "source": [
    "arcpy.env.workspace = \"T:\\\\Students\\\\chimam\\\\submissions\\\\Lab4\\\\\"\n",
    "arcpy.env.overwriteOutput = True\n",
    "shapeFile = \"states2010.shp\"\n",
    "\n",
    "#Search for popchg field, if found, do nothing, otherwise, create popchg field, and populate the field\n",
    "def findField(fieldList, fieldNames):\n",
    "    for field in fieldList:\n",
    "        if field.name == fieldNames:\n",
    "            return True\n",
    "    return False\n",
    "\n",
    "# Test to see if the \"popchg\" field exists\n",
    "if findField(numericalFields, \"popchg2\"):\n",
    "    print (\"popchg2 field already exists, deleting .. \")\n",
    "    arcpy.DeleteField_management(shapeFile, [\"popchg2\"])\n",
    "\n",
    "# Please add a float field named \"popchg\" here\n",
    "\n",
    "arcpy.AddField_management(shapeFile, \"popchg2\", \"FLOAT\",\"10\",\"3\")\n",
    "rows = arcpy.da.UpdateCursor(shapeFile, [\"POP2000\",\"POP2010\",\"popchg2\"])\n",
    "for row in rows:\n",
    "    # Get pop2000 and pop2010 values, calculate the pop change value (row[2] = ...)\n",
    "    row[2] = ((row[1] - row[0]) / row[0] )* 100\n",
    "    row[2] = popchg2 \n",
    "    rows.updateRow(row)\n",
    "del row, rows"
   ]
  },
  {
   "cell_type": "code",
   "execution_count": null,
   "id": "c8377ec6",
   "metadata": {},
   "outputs": [],
   "source": []
  }
 ],
 "metadata": {
  "kernelspec": {
   "display_name": "Python 3",
   "language": "python",
   "name": "python3"
  },
  "language_info": {
   "codemirror_mode": {
    "name": "ipython",
    "version": 3
   },
   "file_extension": ".py",
   "mimetype": "text/x-python",
   "name": "python",
   "nbconvert_exporter": "python",
   "pygments_lexer": "ipython3",
   "version": "3.9.11"
  }
 },
 "nbformat": 4,
 "nbformat_minor": 5
}
