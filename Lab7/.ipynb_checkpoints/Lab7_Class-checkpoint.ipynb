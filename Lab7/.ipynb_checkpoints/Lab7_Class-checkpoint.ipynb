{
 "cells": [
  {
   "cell_type": "code",
   "execution_count": 4,
   "id": "f68e655f",
   "metadata": {},
   "outputs": [],
   "source": [
    "import arcpy\n",
    "\n",
    "arcpy.env.workspace = \"C:\\\\Users\\\\Chima Okoli\\\\OneDrive\\\\Desktop\\\\GEOG592\\\\Lab7\"\n",
    "arcpy.env.overwriteOutput = True\n",
    "\n",
    "Cntyshp = 'Counties.shp'\n",
    "rankFile = open('rank.txt', 'w')\n",
    "\n",
    "#Create an if not statement to add the field \"rank1\".\n",
    "if not arcpy.ListFields(Cntyshp, 'rank1'):\n",
    "    arcpy.AddField_management(Cntyshp, 'rank1', 'SHORT')\n",
    "\n",
    "recList = []   #Create an empty record list to add the list\n",
    "recNum = 0     #Create a record number to track the records from the field in the shapefile\n",
    "\n",
    "with arcpy.da.SearchCursor(Cntyshp, ['2000']) as cursor:  #Create a search cursor\n",
    "    for row in cursor:\n",
    "        recList.append([recNum, row[0], 0])    #the record number keeps track of each record with county names while the last number (0) keeps track of the ranking result.\n",
    "        recNum += 1\n",
    "\n",
    "sortedRecList = sorted(recList, key = lambda x:x[1], reverse = True) #sorting based on the 'row[0]' list item and reversing the sorting order to descending\n",
    "\n",
    "#Sort the ranking result\n",
    "rank = 1\n",
    "for aRec in sortedRecList:\n",
    "    aRec[2] = rank #picks up the '0' record in the list which is the ranking result and ranks them from 1,2,3,...\n",
    "    rank += 1\n",
    "\n",
    "#Sort the results back to the original order based on the object ID number(how it was in the original table but with the ranks reflecting population descending)\n",
    "regRecList = sorted(sortedRecList, key = lambda x:x[0])\n",
    "\n",
    "#Create another search cursor to grab the county name, state name and the population field so you can output to a textfile.\n",
    "with arcpy.da.SearchCursor(Cntyshp, ['NAME', 'STATE_NAME', '2000']) as cursor:\n",
    "    recNum = 0\n",
    "    for row in cursor:\n",
    "        r = regRecList[recNum][2]    #The recNum picks the first record and the third value which is the ranking number from regRecList\n",
    "        recNum += 1                  #The recNum increments to pick all ranking results one after the other.\n",
    "        outString = row[0] + ',' + row[1] + ','+ str(row[2]) + ',' + str(r) + '\\n'      #row[0] is NAME, row[1] is STATE_NAME, row[2] is the 2000 while 'r' is the rank result.\n",
    "        rankFile.write(outString)\n",
    "        \n",
    "rankFile.close()"
   ]
  }
 ],
 "metadata": {
  "kernelspec": {
   "display_name": "Python 3",
   "language": "python",
   "name": "python3"
  },
  "language_info": {
   "codemirror_mode": {
    "name": "ipython",
    "version": 3
   },
   "file_extension": ".py",
   "mimetype": "text/x-python",
   "name": "python",
   "nbconvert_exporter": "python",
   "pygments_lexer": "ipython3",
   "version": "3.9.11"
  }
 },
 "nbformat": 4,
 "nbformat_minor": 5
}
